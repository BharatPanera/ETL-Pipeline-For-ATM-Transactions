{
 "cells": [
  {
   "cell_type": "code",
   "execution_count": 1,
   "metadata": {},
   "outputs": [
    {
     "name": "stdout",
     "output_type": "stream",
     "text": [
      "Starting Spark application\n"
     ]
    },
    {
     "data": {
      "text/html": [
       "<table>\n",
       "<tr><th>ID</th><th>YARN Application ID</th><th>Kind</th><th>State</th><th>Spark UI</th><th>Driver log</th><th>Current session?</th></tr><tr><td>0</td><td>application_1717933098096_0002</td><td>pyspark</td><td>idle</td><td><a target=\"_blank\" href=\"http://ip-172-31-61-217.ec2.internal:20888/proxy/application_1717933098096_0002/\">Link</a></td><td><a target=\"_blank\" href=\"http://ip-172-31-61-217.ec2.internal:8042/node/containerlogs/container_1717933098096_0002_01_000001/livy\">Link</a></td><td>✔</td></tr></table>"
      ],
      "text/plain": [
       "<IPython.core.display.HTML object>"
      ]
     },
     "metadata": {},
     "output_type": "display_data"
    },
    {
     "data": {
      "application/vnd.jupyter.widget-view+json": {
       "model_id": "",
       "version_major": 2,
       "version_minor": 0
      },
      "text/plain": [
       "FloatProgress(value=0.0, bar_style='info', description='Progress:', layout=Layout(height='25px', width='50%'),…"
      ]
     },
     "metadata": {},
     "output_type": "display_data"
    },
    {
     "name": "stdout",
     "output_type": "stream",
     "text": [
      "SparkSession available as 'spark'.\n"
     ]
    },
    {
     "data": {
      "application/vnd.jupyter.widget-view+json": {
       "model_id": "",
       "version_major": 2,
       "version_minor": 0
      },
      "text/plain": [
       "FloatProgress(value=0.0, bar_style='info', description='Progress:', layout=Layout(height='25px', width='50%'),…"
      ]
     },
     "metadata": {},
     "output_type": "display_data"
    },
    {
     "name": "stdout",
     "output_type": "stream",
     "text": [
      "<pyspark.sql.session.SparkSession object at 0x7feec51f04d0>"
     ]
    }
   ],
   "source": [
    "from pyspark.sql import SparkSession\n",
    "spark = SparkSession.builder.appName('pysparkForETL').master(\"local\").getOrCreate()\n",
    "spark"
   ]
  },
  {
   "cell_type": "code",
   "execution_count": 2,
   "metadata": {},
   "outputs": [
    {
     "data": {
      "application/vnd.jupyter.widget-view+json": {
       "model_id": "",
       "version_major": 2,
       "version_minor": 0
      },
      "text/plain": [
       "FloatProgress(value=0.0, bar_style='info', description='Progress:', layout=Layout(height='25px', width='50%'),…"
      ]
     },
     "metadata": {},
     "output_type": "display_data"
    }
   ],
   "source": [
    "# Load the data from HDFS to DataFrame API\n",
    "atm_data = spark.read.csv('/user/root/SRC_ATM_TRANS/part-m-00000', header=False, inferSchema=True)"
   ]
  },
  {
   "cell_type": "code",
   "execution_count": 3,
   "metadata": {},
   "outputs": [
    {
     "data": {
      "application/vnd.jupyter.widget-view+json": {
       "model_id": "",
       "version_major": 2,
       "version_minor": 0
      },
      "text/plain": [
       "FloatProgress(value=0.0, bar_style='info', description='Progress:', layout=Layout(height='25px', width='50%'),…"
      ]
     },
     "metadata": {},
     "output_type": "display_data"
    },
    {
     "name": "stdout",
     "output_type": "stream",
     "text": [
      "+----+-------+---+------+---+--------+---+---+----------+-----------+----+----+------+------+----+----------+----+----------+----+----+------+------+-------+--------------+------+----+----+----+----+-----+----+----+----+----------+\n",
      "| _c0|    _c1|_c2|   _c3|_c4|     _c5|_c6|_c7|       _c8|        _c9|_c10|_c11|  _c12|  _c13|_c14|      _c15|_c16|      _c17|_c18|_c19|  _c20|  _c21|   _c22|          _c23|  _c24|_c25|_c26|_c27|_c28| _c29|_c30|_c31|_c32|      _c33|\n",
      "+----+-------+---+------+---+--------+---+---+----------+-----------+----+----+------+------+----+----------+----+----------+----+----+------+------+-------+--------------+------+----+----+----+----+-----+----+----+----+----------+\n",
      "|2017|January|  1|Sunday|  0|  Active|  1|NCR|NÃƒÂ¦stved|Farimagsvej|   8|4700|55.233|11.763| DKK|MasterCard|5643|Withdrawal|null|null| 55.23|11.761|2616038|      Naestved|281.15|1014|  87|   7| 260|0.215|  92| 500|Rain|light rain|\n",
      "|2017|January|  1|Sunday|  0|Inactive|  2|NCR|  Vejgaard| Hadsundvej|  20|9000|57.043|  9.95| DKK|MasterCard|1764|Withdrawal|null|null|57.048| 9.935|2616235|NÃƒÂ¸rresundby|280.64|1020|  93|   9| 250| 0.59|  92| 500|Rain|light rain|\n",
      "|2017|January|  1|Sunday|  0|Inactive|  2|NCR|  Vejgaard| Hadsundvej|  20|9000|57.043|  9.95| DKK|      VISA|1891|Withdrawal|null|null|57.048| 9.935|2616235|NÃƒÂ¸rresundby|280.64|1020|  93|   9| 250| 0.59|  92| 500|Rain|light rain|\n",
      "+----+-------+---+------+---+--------+---+---+----------+-----------+----+----+------+------+----+----------+----+----------+----+----+------+------+-------+--------------+------+----+----+----+----+-----+----+----+----+----------+\n",
      "only showing top 3 rows"
     ]
    }
   ],
   "source": [
    "# view the data\n",
    "atm_data.show(3)"
   ]
  },
  {
   "cell_type": "code",
   "execution_count": 4,
   "metadata": {},
   "outputs": [
    {
     "data": {
      "application/vnd.jupyter.widget-view+json": {
       "model_id": "",
       "version_major": 2,
       "version_minor": 0
      },
      "text/plain": [
       "FloatProgress(value=0.0, bar_style='info', description='Progress:', layout=Layout(height='25px', width='50%'),…"
      ]
     },
     "metadata": {},
     "output_type": "display_data"
    },
    {
     "name": "stdout",
     "output_type": "stream",
     "text": [
      "['_c0', '_c1', '_c2', '_c3', '_c4', '_c5', '_c6', '_c7', '_c8', '_c9', '_c10', '_c11', '_c12', '_c13', '_c14', '_c15', '_c16', '_c17', '_c18', '_c19', '_c20', '_c21', '_c22', '_c23', '_c24', '_c25', '_c26', '_c27', '_c28', '_c29', '_c30', '_c31', '_c32', '_c33']"
     ]
    }
   ],
   "source": [
    "atm_data.columns"
   ]
  },
  {
   "cell_type": "code",
   "execution_count": 5,
   "metadata": {},
   "outputs": [
    {
     "data": {
      "application/vnd.jupyter.widget-view+json": {
       "model_id": "",
       "version_major": 2,
       "version_minor": 0
      },
      "text/plain": [
       "FloatProgress(value=0.0, bar_style='info', description='Progress:', layout=Layout(height='25px', width='50%'),…"
      ]
     },
     "metadata": {},
     "output_type": "display_data"
    }
   ],
   "source": [
    "# Import classed from pyspark.sql.types module\n",
    "from pyspark.sql.types import StructType, StructField, IntegerType, StringType, BooleanType, DoubleType, LongType"
   ]
  },
  {
   "cell_type": "code",
   "execution_count": 6,
   "metadata": {},
   "outputs": [
    {
     "data": {
      "application/vnd.jupyter.widget-view+json": {
       "model_id": "",
       "version_major": 2,
       "version_minor": 0
      },
      "text/plain": [
       "FloatProgress(value=0.0, bar_style='info', description='Progress:', layout=Layout(height='25px', width='50%'),…"
      ]
     },
     "metadata": {},
     "output_type": "display_data"
    }
   ],
   "source": [
    "# Create custume schema using StrucType\n",
    "Schema = StructType([StructField('year', IntegerType(), nullable = True),\n",
    "                        StructField('month', StringType(), True),\n",
    "                        StructField('day', IntegerType(), True),\n",
    "                        StructField('weekday', StringType(), True),\n",
    "                        StructField('hour', IntegerType(), True),\n",
    "                        StructField('atm_status', StringType(), True),\n",
    "                        StructField('atm_id', StringType(), True),\n",
    "                        StructField('atm_manufacturer', StringType(), True),\n",
    "                        StructField('atm_location', StringType(), True),\n",
    "                        StructField('atm_streetname', StringType(), True),\n",
    "                        StructField('atm_street_number', IntegerType(), True),\n",
    "                        StructField('atm_zipcode', IntegerType(), True),\n",
    "                        StructField('atm_lat', DoubleType(), True),\n",
    "                        StructField('atm_lon', DoubleType(), True),\n",
    "                        StructField('currency', StringType(), True),\n",
    "                        StructField('card_type', StringType(), True),\n",
    "                        StructField('transaction_amount', IntegerType(), True),\n",
    "                        StructField('service', StringType(), True),\n",
    "                        StructField('message_code', StringType(), True),\n",
    "                        StructField('message_text', StringType(), True),\n",
    "                        StructField('weather_lat', DoubleType(), True),\n",
    "                        StructField('weather_lon', DoubleType(), True),\n",
    "                        StructField('weather_city_id', IntegerType(), True),\n",
    "                        StructField('weather_city_name', StringType(), True),\n",
    "                        StructField('temp', DoubleType(), True),\n",
    "                        StructField('pressure', IntegerType(), True),\n",
    "                        StructField('humidity', IntegerType(), True),\n",
    "                        StructField('wind_speed', IntegerType(), True),\n",
    "                        StructField('wind_deg', IntegerType(), True),\n",
    "                        StructField('rain_3h', DoubleType(), True),\n",
    "                        StructField('clouds_all', IntegerType(), True),\n",
    "                        StructField('weather_id', IntegerType(), True),\n",
    "                        StructField('weather_main', StringType(), True),\n",
    "                        StructField('weather_description', StringType(), True)])"
   ]
  },
  {
   "cell_type": "code",
   "execution_count": 7,
   "metadata": {},
   "outputs": [
    {
     "data": {
      "application/vnd.jupyter.widget-view+json": {
       "model_id": "",
       "version_major": 2,
       "version_minor": 0
      },
      "text/plain": [
       "FloatProgress(value=0.0, bar_style='info', description='Progress:', layout=Layout(height='25px', width='50%'),…"
      ]
     },
     "metadata": {},
     "output_type": "display_data"
    }
   ],
   "source": [
    "# Load data again to check the changed schema\n",
    "atm_data = spark.read.csv('/user/root/SRC_ATM_TRANS/part-m-00000', header=False, schema=Schema)"
   ]
  },
  {
   "cell_type": "code",
   "execution_count": 8,
   "metadata": {},
   "outputs": [
    {
     "data": {
      "application/vnd.jupyter.widget-view+json": {
       "model_id": "",
       "version_major": 2,
       "version_minor": 0
      },
      "text/plain": [
       "FloatProgress(value=0.0, bar_style='info', description='Progress:', layout=Layout(height='25px', width='50%'),…"
      ]
     },
     "metadata": {},
     "output_type": "display_data"
    },
    {
     "name": "stdout",
     "output_type": "stream",
     "text": [
      "root\n",
      " |-- year: integer (nullable = true)\n",
      " |-- month: string (nullable = true)\n",
      " |-- day: integer (nullable = true)\n",
      " |-- weekday: string (nullable = true)\n",
      " |-- hour: integer (nullable = true)\n",
      " |-- atm_status: string (nullable = true)\n",
      " |-- atm_id: string (nullable = true)\n",
      " |-- atm_manufacturer: string (nullable = true)\n",
      " |-- atm_location: string (nullable = true)\n",
      " |-- atm_streetname: string (nullable = true)\n",
      " |-- atm_street_number: integer (nullable = true)\n",
      " |-- atm_zipcode: integer (nullable = true)\n",
      " |-- atm_lat: double (nullable = true)\n",
      " |-- atm_lon: double (nullable = true)\n",
      " |-- currency: string (nullable = true)\n",
      " |-- card_type: string (nullable = true)\n",
      " |-- transaction_amount: integer (nullable = true)\n",
      " |-- service: string (nullable = true)\n",
      " |-- message_code: string (nullable = true)\n",
      " |-- message_text: string (nullable = true)\n",
      " |-- weather_lat: double (nullable = true)\n",
      " |-- weather_lon: double (nullable = true)\n",
      " |-- weather_city_id: integer (nullable = true)\n",
      " |-- weather_city_name: string (nullable = true)\n",
      " |-- temp: double (nullable = true)\n",
      " |-- pressure: integer (nullable = true)\n",
      " |-- humidity: integer (nullable = true)\n",
      " |-- wind_speed: integer (nullable = true)\n",
      " |-- wind_deg: integer (nullable = true)\n",
      " |-- rain_3h: double (nullable = true)\n",
      " |-- clouds_all: integer (nullable = true)\n",
      " |-- weather_id: integer (nullable = true)\n",
      " |-- weather_main: string (nullable = true)\n",
      " |-- weather_description: string (nullable = true)"
     ]
    }
   ],
   "source": [
    "# Print the schema fields to varify the changed schema\n",
    "atm_data.printSchema()"
   ]
  },
  {
   "cell_type": "code",
   "execution_count": 9,
   "metadata": {
    "scrolled": true
   },
   "outputs": [
    {
     "data": {
      "application/vnd.jupyter.widget-view+json": {
       "model_id": "",
       "version_major": 2,
       "version_minor": 0
      },
      "text/plain": [
       "FloatProgress(value=0.0, bar_style='info', description='Progress:', layout=Layout(height='25px', width='50%'),…"
      ]
     },
     "metadata": {},
     "output_type": "display_data"
    },
    {
     "name": "stdout",
     "output_type": "stream",
     "text": [
      "2468572"
     ]
    }
   ],
   "source": [
    "# Count the data records loaded into DataFrame\n",
    "atm_data.select('*').count()"
   ]
  },
  {
   "cell_type": "markdown",
   "metadata": {},
   "source": [
    "# Create fact and dimension tables"
   ]
  },
  {
   "cell_type": "markdown",
   "metadata": {},
   "source": [
    "#### 1. Create dimension - DIM_LOCATION"
   ]
  },
  {
   "cell_type": "code",
   "execution_count": 10,
   "metadata": {},
   "outputs": [
    {
     "data": {
      "application/vnd.jupyter.widget-view+json": {
       "model_id": "",
       "version_major": 2,
       "version_minor": 0
      },
      "text/plain": [
       "FloatProgress(value=0.0, bar_style='info', description='Progress:', layout=Layout(height='25px', width='50%'),…"
      ]
     },
     "metadata": {},
     "output_type": "display_data"
    },
    {
     "name": "stdout",
     "output_type": "stream",
     "text": [
      "+----------------+-------------------+-----------------+-----------+-------+-------+\n",
      "|    atm_location|     atm_streetname|atm_street_number|atm_zipcode|atm_lat|atm_lon|\n",
      "+----------------+-------------------+-----------------+-----------+-------+-------+\n",
      "|         Kolding|           Vejlevej|              135|       6000| 55.505|  9.457|\n",
      "|  Skelagervej 15|        Skelagervej|               15|       9000| 57.023|  9.891|\n",
      "|Intern HolbÃƒÂ¦k|        Slotsvolden|                7|       4300| 55.718| 11.704|\n",
      "|          Odense|       FÃƒÂ¦lledvej|                3|       5000| 55.394|  10.37|\n",
      "|           Ikast|RÃƒÂ¥dhusstrÃƒÂ¦det|               12|       7430| 56.139|  9.154|\n",
      "+----------------+-------------------+-----------------+-----------+-------+-------+\n",
      "only showing top 5 rows"
     ]
    }
   ],
   "source": [
    "# Filter columns that are required for the location dimension\n",
    "location_dim_temp = atm_data.select('atm_location', 'atm_streetname', 'atm_street_number', 'atm_zipcode', 'atm_lat', 'atm_lon').distinct()\n",
    "location_dim_temp.show(5)"
   ]
  },
  {
   "cell_type": "code",
   "execution_count": 11,
   "metadata": {},
   "outputs": [
    {
     "data": {
      "application/vnd.jupyter.widget-view+json": {
       "model_id": "",
       "version_major": 2,
       "version_minor": 0
      },
      "text/plain": [
       "FloatProgress(value=0.0, bar_style='info', description='Progress:', layout=Layout(height='25px', width='50%'),…"
      ]
     },
     "metadata": {},
     "output_type": "display_data"
    }
   ],
   "source": [
    "# import necessary classes and functions from PySpark\n",
    "from pyspark.sql.window import Window\n",
    "from pyspark.sql.functions import *"
   ]
  },
  {
   "cell_type": "code",
   "execution_count": 12,
   "metadata": {},
   "outputs": [
    {
     "data": {
      "application/vnd.jupyter.widget-view+json": {
       "model_id": "",
       "version_major": 2,
       "version_minor": 0
      },
      "text/plain": [
       "FloatProgress(value=0.0, bar_style='info', description='Progress:', layout=Layout(height='25px', width='50%'),…"
      ]
     },
     "metadata": {},
     "output_type": "display_data"
    },
    {
     "name": "stdout",
     "output_type": "stream",
     "text": [
      "+-----------+--------------------+--------------+-----------------+-----------+-------+-------+\n",
      "|location_id|        atm_location|atm_streetname|atm_street_number|atm_zipcode|atm_lat|atm_lon|\n",
      "+-----------+--------------------+--------------+-----------------+-----------+-------+-------+\n",
      "|          1|             Aabybro|  ÃƒËœstergade|                6|       9440| 57.162|   9.73|\n",
      "|          2|      Aalborg Hallen|  Europa Plads|                4|       9000| 57.044|  9.913|\n",
      "|          3|Aalborg Storcente...|      Hobrovej|              452|       9200| 57.005|  9.876|\n",
      "|          4|Aalborg Storcente...|      Hobrovej|              452|       9200| 57.005|  9.876|\n",
      "|          5|         Aalborg Syd|      Hobrovej|              440|       9200| 57.005|  9.881|\n",
      "+-----------+--------------------+--------------+-----------------+-----------+-------+-------+\n",
      "only showing top 5 rows"
     ]
    }
   ],
   "source": [
    "# Create a primary key('location_id') in location dimension as required\n",
    "location_dim_temp1 = location_dim_temp.select(row_number().over(Window.orderBy(location_dim_temp[0])).alias(\"location_id\"), \"*\")\n",
    "location_dim_temp1.show(5)"
   ]
  },
  {
   "cell_type": "code",
   "execution_count": 13,
   "metadata": {},
   "outputs": [
    {
     "data": {
      "application/vnd.jupyter.widget-view+json": {
       "model_id": "",
       "version_major": 2,
       "version_minor": 0
      },
      "text/plain": [
       "FloatProgress(value=0.0, bar_style='info', description='Progress:', layout=Layout(height='25px', width='50%'),…"
      ]
     },
     "metadata": {},
     "output_type": "display_data"
    },
    {
     "name": "stdout",
     "output_type": "stream",
     "text": [
      "+-----------+--------------------+------------+-------------+-------+------+-----+\n",
      "|location_id|            location|  streetname|street_number|zipcode|   lat|  lon|\n",
      "+-----------+--------------------+------------+-------------+-------+------+-----+\n",
      "|          1|             Aabybro|ÃƒËœstergade|            6|   9440|57.162| 9.73|\n",
      "|          2|      Aalborg Hallen|Europa Plads|            4|   9000|57.044|9.913|\n",
      "|          3|Aalborg Storcente...|    Hobrovej|          452|   9200|57.005|9.876|\n",
      "|          4|Aalborg Storcente...|    Hobrovej|          452|   9200|57.005|9.876|\n",
      "|          5|         Aalborg Syd|    Hobrovej|          440|   9200|57.005|9.881|\n",
      "+-----------+--------------------+------------+-------------+-------+------+-----+\n",
      "only showing top 5 rows"
     ]
    }
   ],
   "source": [
    "# Rename the column name of the loction dimension as per requirement\n",
    "DIM_LOCATION = location_dim_temp1.withColumnRenamed('atm_location','location')\\\n",
    "                            .withColumnRenamed('atm_streetname','streetname')\\\n",
    "                            .withColumnRenamed('atm_street_number','street_number')\\\n",
    "                            .withColumnRenamed('atm_zipcode','zipcode')\\\n",
    "                            .withColumnRenamed('atm_lat','lat')\\\n",
    "                            .withColumnRenamed('atm_lon','lon')\n",
    "DIM_LOCATION.show(5)"
   ]
  },
  {
   "cell_type": "markdown",
   "metadata": {},
   "source": [
    "#### 2. Create dimension - DIM_ATM"
   ]
  },
  {
   "cell_type": "code",
   "execution_count": 14,
   "metadata": {},
   "outputs": [
    {
     "data": {
      "application/vnd.jupyter.widget-view+json": {
       "model_id": "",
       "version_major": 2,
       "version_minor": 0
      },
      "text/plain": [
       "FloatProgress(value=0.0, bar_style='info', description='Progress:', layout=Layout(height='25px', width='50%'),…"
      ]
     },
     "metadata": {},
     "output_type": "display_data"
    },
    {
     "name": "stdout",
     "output_type": "stream",
     "text": [
      "+----------+----------------+-------+-------+\n",
      "|atm_number|atm_manufacturer|atm_lat|atm_lon|\n",
      "+----------+----------------+-------+-------+\n",
      "|         1|             NCR| 55.233| 11.763|\n",
      "|         2|             NCR| 57.043|   9.95|\n",
      "|         2|             NCR| 57.043|   9.95|\n",
      "|         3|             NCR| 56.139|  9.154|\n",
      "|         4|             NCR| 55.634| 12.018|\n",
      "+----------+----------------+-------+-------+\n",
      "only showing top 5 rows"
     ]
    }
   ],
   "source": [
    "# Filter columns that are required for the ATM dimension\n",
    "atm_dim_temp = atm_data.select(col('atm_id').alias('atm_number'), 'atm_manufacturer', 'atm_lat', 'atm_lon')\n",
    "atm_dim_temp.show(5)"
   ]
  },
  {
   "cell_type": "code",
   "execution_count": 15,
   "metadata": {},
   "outputs": [
    {
     "data": {
      "application/vnd.jupyter.widget-view+json": {
       "model_id": "",
       "version_major": 2,
       "version_minor": 0
      },
      "text/plain": [
       "FloatProgress(value=0.0, bar_style='info', description='Progress:', layout=Layout(height='25px', width='50%'),…"
      ]
     },
     "metadata": {},
     "output_type": "display_data"
    },
    {
     "name": "stdout",
     "output_type": "stream",
     "text": [
      "['atm_lat', 'atm_lon', 'atm_number', 'atm_manufacturer', 'location_id', 'atm_location', 'atm_streetname', 'atm_street_number', 'atm_zipcode']"
     ]
    }
   ],
   "source": [
    "atm_dim_temp = atm_dim_temp.join(location_dim_temp1, on = ['atm_lat', 'atm_lon'], how = \"left\")\n",
    "atm_dim_temp.columns"
   ]
  },
  {
   "cell_type": "code",
   "execution_count": 16,
   "metadata": {},
   "outputs": [
    {
     "data": {
      "application/vnd.jupyter.widget-view+json": {
       "model_id": "",
       "version_major": 2,
       "version_minor": 0
      },
      "text/plain": [
       "FloatProgress(value=0.0, bar_style='info', description='Progress:', layout=Layout(height='25px', width='50%'),…"
      ]
     },
     "metadata": {},
     "output_type": "display_data"
    },
    {
     "name": "stdout",
     "output_type": "stream",
     "text": [
      "['atm_number', 'atm_manufacturer', 'location_id']"
     ]
    }
   ],
   "source": [
    "# Filter only required columns and keep the record distinct\n",
    "atm_dim_temp1 = atm_dim_temp.select('atm_number', 'atm_manufacturer', 'location_id').distinct()\n",
    "atm_dim_temp1.columns"
   ]
  },
  {
   "cell_type": "code",
   "execution_count": 17,
   "metadata": {},
   "outputs": [
    {
     "data": {
      "application/vnd.jupyter.widget-view+json": {
       "model_id": "",
       "version_major": 2,
       "version_minor": 0
      },
      "text/plain": [
       "FloatProgress(value=0.0, bar_style='info', description='Progress:', layout=Layout(height='25px', width='50%'),…"
      ]
     },
     "metadata": {},
     "output_type": "display_data"
    },
    {
     "name": "stdout",
     "output_type": "stream",
     "text": [
      "+------+----------+----------------+---------------+\n",
      "|atm_id|atm_number|atm_manufacturer|atm_location_id|\n",
      "+------+----------+----------------+---------------+\n",
      "|     1|         1|             NCR|             74|\n",
      "|     2|        10|             NCR|             76|\n",
      "|     3|       100|             NCR|             87|\n",
      "|     4|       100|             NCR|             56|\n",
      "|     5|       100|             NCR|             86|\n",
      "+------+----------+----------------+---------------+\n",
      "only showing top 5 rows"
     ]
    }
   ],
   "source": [
    "DIM_ATM = atm_dim_temp1.select(row_number().over(Window.orderBy(atm_dim_temp1[0])).alias('atm_id'),\n",
    "                               'atm_number', 'atm_manufacturer', col('location_id').alias('atm_location_id'))\n",
    "DIM_ATM.show(5)"
   ]
  },
  {
   "cell_type": "markdown",
   "metadata": {},
   "source": [
    "#### 3. Create dimension - DIM_DATE"
   ]
  },
  {
   "cell_type": "code",
   "execution_count": 18,
   "metadata": {},
   "outputs": [
    {
     "data": {
      "application/vnd.jupyter.widget-view+json": {
       "model_id": "",
       "version_major": 2,
       "version_minor": 0
      },
      "text/plain": [
       "FloatProgress(value=0.0, bar_style='info', description='Progress:', layout=Layout(height='25px', width='50%'),…"
      ]
     },
     "metadata": {},
     "output_type": "display_data"
    },
    {
     "name": "stdout",
     "output_type": "stream",
     "text": [
      "+----+-------+---+----+-------+\n",
      "|year|  month|day|hour|weekday|\n",
      "+----+-------+---+----+-------+\n",
      "|2017|January|  1|   0| Sunday|\n",
      "|2017|January|  1|   0| Sunday|\n",
      "|2017|January|  1|   0| Sunday|\n",
      "|2017|January|  1|   0| Sunday|\n",
      "|2017|January|  1|   0| Sunday|\n",
      "+----+-------+---+----+-------+\n",
      "only showing top 5 rows"
     ]
    }
   ],
   "source": [
    "# Filter columns that are required for the date dimension\n",
    "date_dim_temp = atm_data.select('year', 'month', 'day', 'hour', 'weekday')\n",
    "date_dim_temp.show(5)"
   ]
  },
  {
   "cell_type": "code",
   "execution_count": 19,
   "metadata": {},
   "outputs": [
    {
     "data": {
      "application/vnd.jupyter.widget-view+json": {
       "model_id": "",
       "version_major": 2,
       "version_minor": 0
      },
      "text/plain": [
       "FloatProgress(value=0.0, bar_style='info', description='Progress:', layout=Layout(height='25px', width='50%'),…"
      ]
     },
     "metadata": {},
     "output_type": "display_data"
    },
    {
     "name": "stdout",
     "output_type": "stream",
     "text": [
      "+----+-------+---+----+-------+-------------------+\n",
      "|year|  month|day|hour|weekday|     full_date_time|\n",
      "+----+-------+---+----+-------+-------------------+\n",
      "|2017|January|  1|   0| Sunday|2017-01-01 00:00:00|\n",
      "|2017|January|  1|   0| Sunday|2017-01-01 00:00:00|\n",
      "|2017|January|  1|   0| Sunday|2017-01-01 00:00:00|\n",
      "|2017|January|  1|   0| Sunday|2017-01-01 00:00:00|\n",
      "|2017|January|  1|   0| Sunday|2017-01-01 00:00:00|\n",
      "+----+-------+---+----+-------+-------------------+\n",
      "only showing top 5 rows"
     ]
    }
   ],
   "source": [
    "# Create columns full_date_time as per requirement\n",
    "date_dim_temp = date_dim_temp.withColumn('full_date_time', to_timestamp(concat(date_dim_temp.year, lit('-'), \n",
    "                                                                               date_dim_temp.month, lit('-'),\n",
    "                                                                               date_dim_temp.day, lit(' '), \n",
    "                                                                               date_dim_temp.hour), 'yyyy-MMMM-d H'))\n",
    "date_dim_temp.show(5)"
   ]
  },
  {
   "cell_type": "code",
   "execution_count": 20,
   "metadata": {},
   "outputs": [
    {
     "data": {
      "application/vnd.jupyter.widget-view+json": {
       "model_id": "",
       "version_major": 2,
       "version_minor": 0
      },
      "text/plain": [
       "FloatProgress(value=0.0, bar_style='info', description='Progress:', layout=Layout(height='25px', width='50%'),…"
      ]
     },
     "metadata": {},
     "output_type": "display_data"
    }
   ],
   "source": [
    "# Filter only required columns and keep the record distinct\n",
    "date_dim_temp = date_dim_temp.select('full_date_time', 'year', 'month', 'day', 'hour', 'weekday').distinct()"
   ]
  },
  {
   "cell_type": "code",
   "execution_count": 21,
   "metadata": {},
   "outputs": [
    {
     "data": {
      "application/vnd.jupyter.widget-view+json": {
       "model_id": "",
       "version_major": 2,
       "version_minor": 0
      },
      "text/plain": [
       "FloatProgress(value=0.0, bar_style='info', description='Progress:', layout=Layout(height='25px', width='50%'),…"
      ]
     },
     "metadata": {},
     "output_type": "display_data"
    },
    {
     "name": "stdout",
     "output_type": "stream",
     "text": [
      "+-------+-------------------+----+-------+---+----+-------+\n",
      "|date_id|     full_date_time|year|  month|day|hour|weekday|\n",
      "+-------+-------------------+----+-------+---+----+-------+\n",
      "|      1|2017-01-01 00:00:00|2017|January|  1|   0| Sunday|\n",
      "|      2|2017-01-01 01:00:00|2017|January|  1|   1| Sunday|\n",
      "|      3|2017-01-01 02:00:00|2017|January|  1|   2| Sunday|\n",
      "|      4|2017-01-01 03:00:00|2017|January|  1|   3| Sunday|\n",
      "|      5|2017-01-01 04:00:00|2017|January|  1|   4| Sunday|\n",
      "+-------+-------------------+----+-------+---+----+-------+\n",
      "only showing top 5 rows"
     ]
    }
   ],
   "source": [
    "# Craete a col 'date_id' as per requirements\n",
    "DIM_DATE = date_dim_temp.select(row_number().over(Window.orderBy(date_dim_temp[0])).alias('date_id'), '*')\n",
    "DIM_DATE.show(5)"
   ]
  },
  {
   "cell_type": "markdown",
   "metadata": {},
   "source": [
    "#### 4. Create dimension - DIM_CARD_TYPE"
   ]
  },
  {
   "cell_type": "code",
   "execution_count": 22,
   "metadata": {},
   "outputs": [
    {
     "data": {
      "application/vnd.jupyter.widget-view+json": {
       "model_id": "",
       "version_major": 2,
       "version_minor": 0
      },
      "text/plain": [
       "FloatProgress(value=0.0, bar_style='info', description='Progress:', layout=Layout(height='25px', width='50%'),…"
      ]
     },
     "metadata": {},
     "output_type": "display_data"
    }
   ],
   "source": [
    "# Filter columns that are required for the card_type dimension\n",
    "card_dim_temp =  atm_data.select('card_type').distinct()"
   ]
  },
  {
   "cell_type": "code",
   "execution_count": 23,
   "metadata": {},
   "outputs": [
    {
     "data": {
      "application/vnd.jupyter.widget-view+json": {
       "model_id": "",
       "version_major": 2,
       "version_minor": 0
      },
      "text/plain": [
       "FloatProgress(value=0.0, bar_style='info', description='Progress:', layout=Layout(height='25px', width='50%'),…"
      ]
     },
     "metadata": {},
     "output_type": "display_data"
    },
    {
     "name": "stdout",
     "output_type": "stream",
     "text": [
      "+------------+-------------------+\n",
      "|card_type_id|          card_type|\n",
      "+------------+-------------------+\n",
      "|           1|             CIRRUS|\n",
      "|           2|            Dankort|\n",
      "|           3|    Dankort - on-us|\n",
      "|           4|        HÃƒÂ¦vekort|\n",
      "|           5|HÃƒÂ¦vekort - on-us|\n",
      "+------------+-------------------+\n",
      "only showing top 5 rows"
     ]
    }
   ],
   "source": [
    "# Create a primary key for card_type dimension\n",
    "DIM_CARD_TYPE = card_dim_temp.select(row_number().over(Window.orderBy(card_dim_temp[0])).alias(\"card_type_id\"), \"*\")\n",
    "DIM_CARD_TYPE.show(5)"
   ]
  },
  {
   "cell_type": "markdown",
   "metadata": {},
   "source": [
    "### Create fact table:"
   ]
  },
  {
   "cell_type": "markdown",
   "metadata": {},
   "source": [
    "#### 1. Create fact table - FACT_ATM_TRANS"
   ]
  },
  {
   "cell_type": "code",
   "execution_count": 24,
   "metadata": {
    "vscode": {
     "languageId": "plaintext"
    }
   },
   "outputs": [
    {
     "data": {
      "application/vnd.jupyter.widget-view+json": {
       "model_id": "",
       "version_major": 2,
       "version_minor": 0
      },
      "text/plain": [
       "FloatProgress(value=0.0, bar_style='info', description='Progress:', layout=Layout(height='25px', width='50%'),…"
      ]
     },
     "metadata": {},
     "output_type": "display_data"
    }
   ],
   "source": [
    "# Filter the required cols from the originam DataFrame and rename it\n",
    "# The original column names are renamed to more general names to match the target schema.\n",
    "fact_location_temp = atm_data.withColumnRenamed('atm_location','location')\\\n",
    "                             .withColumnRenamed('atm_streetname','streetname')\\\n",
    "                             .withColumnRenamed('atm_street_number','street_number')\\\n",
    "                             .withColumnRenamed('atm_zipcode','zipcode')\\\n",
    "                             .withColumnRenamed('atm_lat','lat')\\\n",
    "                             .withColumnRenamed('atm_lon','lon')\n",
    "\n",
    "# Join the DataFrame with dimension\n",
    "fact_location_temp = fact_location_temp.join(DIM_LOCATION, on = ['location', 'streetname', 'street_number', 'zipcode', 'lat', 'lon'], how = \"left\")\n",
    "\n",
    "fact_location_temp = fact_location_temp.withColumnRenamed('atm_id', 'atm_number').withColumnRenamed('location_id', 'atm_location_id')"
   ]
  },
  {
   "cell_type": "code",
   "execution_count": 25,
   "metadata": {},
   "outputs": [
    {
     "data": {
      "application/vnd.jupyter.widget-view+json": {
       "model_id": "",
       "version_major": 2,
       "version_minor": 0
      },
      "text/plain": [
       "FloatProgress(value=0.0, bar_style='info', description='Progress:', layout=Layout(height='25px', width='50%'),…"
      ]
     },
     "metadata": {},
     "output_type": "display_data"
    }
   ],
   "source": [
    "# Join the DataFrame for the 'DIM_ATM'\n",
    "fact_atm_temp = fact_location_temp.join(DIM_ATM, on = ['atm_number', 'atm_manufacturer', 'atm_location_id'], how = \"left\")\n",
    "fact_atm_temp = fact_atm_temp.withColumnRenamed('atm_location_id', 'weather_loc_id')"
   ]
  },
  {
   "cell_type": "code",
   "execution_count": 26,
   "metadata": {
    "vscode": {
     "languageId": "plaintext"
    }
   },
   "outputs": [
    {
     "data": {
      "application/vnd.jupyter.widget-view+json": {
       "model_id": "",
       "version_major": 2,
       "version_minor": 0
      },
      "text/plain": [
       "FloatProgress(value=0.0, bar_style='info', description='Progress:', layout=Layout(height='25px', width='50%'),…"
      ]
     },
     "metadata": {},
     "output_type": "display_data"
    }
   ],
   "source": [
    "# Join the DataFrame for the 'DIM_DATE'\n",
    "fact_date_temp = fact_atm_temp.join(DIM_DATE, on = ['year', 'month', 'day', 'hour', 'weekday'], how = \"left\")"
   ]
  },
  {
   "cell_type": "code",
   "execution_count": 27,
   "metadata": {
    "vscode": {
     "languageId": "plaintext"
    }
   },
   "outputs": [
    {
     "data": {
      "application/vnd.jupyter.widget-view+json": {
       "model_id": "",
       "version_major": 2,
       "version_minor": 0
      },
      "text/plain": [
       "FloatProgress(value=0.0, bar_style='info', description='Progress:', layout=Layout(height='25px', width='50%'),…"
      ]
     },
     "metadata": {},
     "output_type": "display_data"
    }
   ],
   "source": [
    "# Joint the DataFrame with the 'DIM_CARD_TYPE' dimension\n",
    "fact_atm_trans_temp = fact_date_temp.join(DIM_CARD_TYPE, on = ['card_type'], how = \"left\")"
   ]
  },
  {
   "cell_type": "code",
   "execution_count": 28,
   "metadata": {
    "vscode": {
     "languageId": "plaintext"
    }
   },
   "outputs": [
    {
     "data": {
      "application/vnd.jupyter.widget-view+json": {
       "model_id": "",
       "version_major": 2,
       "version_minor": 0
      },
      "text/plain": [
       "FloatProgress(value=0.0, bar_style='info', description='Progress:', layout=Layout(height='25px', width='50%'),…"
      ]
     },
     "metadata": {},
     "output_type": "display_data"
    },
    {
     "name": "stdout",
     "output_type": "stream",
     "text": [
      "['card_type', 'year', 'month', 'day', 'hour', 'weekday', 'atm_number', 'atm_manufacturer', 'weather_loc_id', 'location', 'streetname', 'street_number', 'zipcode', 'lat', 'lon', 'atm_status', 'currency', 'transaction_amount', 'service', 'message_code', 'message_text', 'weather_lat', 'weather_lon', 'weather_city_id', 'weather_city_name', 'temp', 'pressure', 'humidity', 'wind_speed', 'wind_deg', 'rain_3h', 'clouds_all', 'weather_id', 'weather_main', 'weather_description', 'atm_id', 'date_id', 'full_date_time', 'card_type_id', 'trans_id']"
     ]
    }
   ],
   "source": [
    "# Create primary key ('trans_id') in fact table as per requirements\n",
    "FACT_ATM_TRANS = fact_atm_trans_temp.withColumn(\"trans_id\", row_number().over(Window.orderBy('date_id')))\n",
    "FACT_ATM_TRANS.columns"
   ]
  },
  {
   "cell_type": "code",
   "execution_count": 29,
   "metadata": {
    "vscode": {
     "languageId": "plaintext"
    }
   },
   "outputs": [
    {
     "data": {
      "application/vnd.jupyter.widget-view+json": {
       "model_id": "",
       "version_major": 2,
       "version_minor": 0
      },
      "text/plain": [
       "FloatProgress(value=0.0, bar_style='info', description='Progress:', layout=Layout(height='25px', width='50%'),…"
      ]
     },
     "metadata": {},
     "output_type": "display_data"
    },
    {
     "name": "stdout",
     "output_type": "stream",
     "text": [
      "+--------+------+--------------+-------+------------+----------+--------+----------+------------------+------------+------------+-------+----------+----------+------------+--------------------+\n",
      "|trans_id|atm_id|weather_loc_id|date_id|card_type_id|atm_status|currency|   service|transaction_amount|message_code|message_text|rain_3h|clouds_all|weather_id|weather_main| weather_description|\n",
      "+--------+------+--------------+-------+------------+----------+--------+----------+------------------+------------+------------+-------+----------+----------+------------+--------------------+\n",
      "|       1|   119|            30|      1|           7|    Active|     DKK|Withdrawal|               470|        null|        null|    0.0|        75|       300|     Drizzle|light intensity d...|\n",
      "|       2|   119|            30|      1|          11|    Active|     DKK|Withdrawal|              4009|        null|        null|    0.0|        75|       300|     Drizzle|light intensity d...|\n",
      "|       3|    35|            86|      1|          10|  Inactive|     DKK|Withdrawal|              6068|        null|        null|    0.0|        75|       300|     Drizzle|light intensity d...|\n",
      "|       4|    35|            86|      1|          10|  Inactive|     DKK|Withdrawal|              1445|        null|        null|    0.0|        75|       300|     Drizzle|light intensity d...|\n",
      "|       5|    44|            79|      1|          10|    Active|     DKK|Withdrawal|              1053|        null|        null|    0.0|        88|       701|        Mist|                mist|\n",
      "+--------+------+--------------+-------+------------+----------+--------+----------+------------------+------------+------------+-------+----------+----------+------------+--------------------+\n",
      "only showing top 5 rows"
     ]
    }
   ],
   "source": [
    "# Rearrange the columns in fact table as per the target model\n",
    "FACT_ATM_TRANS = FACT_ATM_TRANS.select('trans_id', 'atm_id', 'weather_loc_id', 'date_id', 'card_type_id', 'atm_status',\n",
    "                                       'currency', 'service', 'transaction_amount', 'message_code', 'message_text', 'rain_3h', \n",
    "                                       'clouds_all', 'weather_id', 'weather_main', 'weather_description')\n",
    "FACT_ATM_TRANS.show(5)"
   ]
  },
  {
   "cell_type": "code",
   "execution_count": 30,
   "metadata": {
    "vscode": {
     "languageId": "plaintext"
    }
   },
   "outputs": [
    {
     "data": {
      "application/vnd.jupyter.widget-view+json": {
       "model_id": "",
       "version_major": 2,
       "version_minor": 0
      },
      "text/plain": [
       "FloatProgress(value=0.0, bar_style='info', description='Progress:', layout=Layout(height='25px', width='50%'),…"
      ]
     },
     "metadata": {},
     "output_type": "display_data"
    },
    {
     "name": "stdout",
     "output_type": "stream",
     "text": [
      "2468572"
     ]
    }
   ],
   "source": [
    "# varify the count of the fact table\n",
    "FACT_ATM_TRANS.count()"
   ]
  },
  {
   "cell_type": "markdown",
   "metadata": {},
   "source": [
    "# Export the final data to S3 bucket"
   ]
  },
  {
   "cell_type": "code",
   "execution_count": 31,
   "metadata": {
    "vscode": {
     "languageId": "plaintext"
    }
   },
   "outputs": [
    {
     "data": {
      "application/vnd.jupyter.widget-view+json": {
       "model_id": "",
       "version_major": 2,
       "version_minor": 0
      },
      "text/plain": [
       "FloatProgress(value=0.0, bar_style='info', description='Progress:', layout=Layout(height='25px', width='50%'),…"
      ]
     },
     "metadata": {},
     "output_type": "display_data"
    }
   ],
   "source": [
    "def upload_to_s3(data_frame, s3_file_name):\n",
    "    \"\"\"\n",
    "    Save a PySpark DataFrame to an S3 bucket in CSV format.\n",
    "\n",
    "    Parameters:\n",
    "    data_frame (DataFrame): The PySpark DataFrame to be saved.\n",
    "    s3_file_name (str): The S3 file path including the file name where the DataFrame should be saved.\n",
    "    \"\"\"\n",
    "    try:\n",
    "        data_frame.write.format('csv').option('header', 'false').save(f's3://etl-atm-data/{s3_file_name}', mode='overwrite')\n",
    "        print(f'DataFrame successfully saved to s3://etl-atm-data/{s3_file_name}')\n",
    "    except Exception as e:\n",
    "        print(f'An error occurred while saving the DataFrame to S3: {e}')"
   ]
  },
  {
   "cell_type": "code",
   "execution_count": 33,
   "metadata": {
    "vscode": {
     "languageId": "plaintext"
    }
   },
   "outputs": [
    {
     "data": {
      "application/vnd.jupyter.widget-view+json": {
       "model_id": "",
       "version_major": 2,
       "version_minor": 0
      },
      "text/plain": [
       "FloatProgress(value=0.0, bar_style='info', description='Progress:', layout=Layout(height='25px', width='50%'),…"
      ]
     },
     "metadata": {},
     "output_type": "display_data"
    },
    {
     "name": "stdout",
     "output_type": "stream",
     "text": [
      "DataFrame successfully saved to s3://etl-atm-data/dim_location\n",
      "DataFrame successfully saved to s3://etl-atm-data/dim_atm\n",
      "DataFrame successfully saved to s3://etl-atm-data/dim_date\n",
      "DataFrame successfully saved to s3://etl-atm-data/dim_card_type\n",
      "DataFrame successfully saved to s3://etl-atm-data/fact_atm_trans"
     ]
    }
   ],
   "source": [
    "upload_to_s3(DIM_LOCATION, 'dim_location')\n",
    "upload_to_s3(DIM_ATM, 'dim_atm')\n",
    "upload_to_s3(DIM_DATE, 'dim_date')\n",
    "upload_to_s3(DIM_CARD_TYPE, 'dim_card_type')\n",
    "upload_to_s3(FACT_ATM_TRANS, 'fact_atm_trans')"
   ]
  },
  {
   "cell_type": "code",
   "execution_count": null,
   "metadata": {},
   "outputs": [],
   "source": []
  }
 ],
 "metadata": {
  "kernelspec": {
   "display_name": "PySpark",
   "language": "",
   "name": "pysparkkernel"
  },
  "language_info": {
   "codemirror_mode": {
    "name": "python",
    "version": 3
   },
   "mimetype": "text/x-python",
   "name": "pyspark",
   "pygments_lexer": "python3"
  }
 },
 "nbformat": 4,
 "nbformat_minor": 4
}
